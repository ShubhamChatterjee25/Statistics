{
 "cells": [
  {
   "cell_type": "markdown",
   "id": "9538379c-be15-44f0-b1af-29883b23a07a",
   "metadata": {},
   "source": [
    "### 1 . Explain the assumptions required to use ANOVA and provide example of violations that could impact the validity of the results"
   ]
  },
  {
   "cell_type": "markdown",
   "id": "837e0c89-0499-4d89-bf06-9b949bbffd6d",
   "metadata": {},
   "source": [
    "##### Assumptions in ANOVA : \n",
    "1. Normality of sampling distribution of mean : the distribution of sample mean is normally distributed.\n",
    "2. Absence of outliers : Outlying score need to be removed from the dataset \n",
    "3. Homogenity of variance : Population variance in different levels of each independent variable or factor it should be same or equal.\n",
    "4. Samples are independent and are randomly selected. \n",
    "\n",
    "##### Example of Violations :\n",
    "1. If data is heavily skewed or has outliers, it may lead to inaccurate results\n",
    "2. If there is dependency among observations, it can lead to replication and inflated type 1 error\n",
    "3. Non-random sampling may lead to biased estimates, affecting the generalizability of the results\n",
    "4. Using Ordinal or Nominal data with ANOVA may result in inappropriate conclusions."
   ]
  },
  {
   "cell_type": "markdown",
   "id": "b1e9b545-3401-4611-b7f7-24cbba376c69",
   "metadata": {},
   "source": [
    "### 2 . Wha are three types of ANOVA ? in what sitatuion would each be used ?"
   ]
  },
  {
   "cell_type": "markdown",
   "id": "3ac2067a-6c3b-4fd0-bddd-45d1895bbe3a",
   "metadata": {},
   "source": [
    "##### Types of ANOVA : \n",
    "1. One-way ANOVA\n",
    "2. Two-way ANOVA\n",
    "3. Repeated Measures ANOVA\n",
    "\n",
    "##### Situations when each type is used :\n",
    "- One-way ANOVA : Used when there is one independent variable(factor) with two or more levels(groups)\n",
    "\n",
    "- Two-way ANOVA : Used when there are two independent varibales, each with two or more levels, and we want to examine the main effects of each variables as well as thier interaction\n",
    "\n",
    "- Repeated Measures ANOVA : Used when the same subjects are used for each treatment (repeated measurements), often in a longitudinal or within-subject design"
   ]
  },
  {
   "cell_type": "markdown",
   "id": "17facc86-06ea-4834-ab34-1b761d012975",
   "metadata": {},
   "source": [
    "### 3 . What is partitioning in ANOVA, and why is it important to understand this concept ?"
   ]
  },
  {
   "cell_type": "markdown",
   "id": "cdf83449-e92e-401c-a0d3-84da9160ae38",
   "metadata": {},
   "source": [
    "##### Partitioning in ANOVA :\n",
    "- the partitioning in ANOVA refers to decomposition of the total variance observed in a dataset into different components attributed to various sources. \n",
    "\n",
    "- Understanding this concept is important because it helps researchers identify and quantify the sources of variability in the data, which inturn allows them to access the significance of these sources and draw meaningful conclusions about the factors influencing the dependent varibale.\n",
    "\n",
    "##### Understanding the partioning of variance is important for several reasons:\n",
    "\n",
    "1. Identifying significnat effects : researchers can determine if there are significant differences among the group means.this helps identify the effects of independent variable.\n",
    "\n",
    "2. interpreting F-statistics : the F-statistic from ANOVA is a ration of varinaces. it helps in interpreting F-statistic corrrectly and making informed decisions about significance overall model or individual factors.\n",
    "\n",
    "3. Designing experiments : knowledge of partitioning of varinace is essential for designing experiments. researchers can allocate resources efficiently by focusing on factors that contribute significnatly to the overall variance.\n"
   ]
  },
  {
   "cell_type": "markdown",
   "id": "fac49fe0-c432-46f2-81f4-292256fc7543",
   "metadata": {},
   "source": [
    "### 4 . How would you calculate the total sum of squares (SST), explained sum of squares (SSE), and residual sum of squares (SSR) in a one-way ANOVA using Python?"
   ]
  },
  {
   "cell_type": "markdown",
   "id": "2ac0d5f8-24fd-4b3a-979a-459104316168",
   "metadata": {},
   "source": [
    "##### Total Varinace(Total sum of squares SST): \n",
    "- This represents the overall variability in the dependent variable, calculated as the sum of sqaured differences between each individual data point and overall mean."
   ]
  },
  {
   "cell_type": "code",
   "execution_count": 1,
   "id": "5263d7cc-b8b0-4675-b4d8-363c7d474643",
   "metadata": {},
   "outputs": [
    {
     "name": "stdout",
     "output_type": "stream",
     "text": [
      "136.0\n"
     ]
    }
   ],
   "source": [
    "## To calculate SST \n",
    "## importing required modules\n",
    "import numpy as np\n",
    "from scipy import stats\n",
    "\n",
    "## example data\n",
    "group1 = [4,5,6,3,5]\n",
    "group2 = [8,7,6,9,10]\n",
    "group3 = [12,10,11,13,11]\n",
    "\n",
    "## Combine the data into a single array\n",
    "data = np.concatenate([group1,group2,group3])\n",
    "\n",
    "## overall mean\n",
    "overall_mean = np.mean(data)\n",
    "\n",
    "## calculating SST\n",
    "sst = np.sum((data - overall_mean)**2)\n",
    "\n",
    "## printing the result\n",
    "print(sst)"
   ]
  },
  {
   "cell_type": "markdown",
   "id": "d8801189-fed0-42d2-a85c-f11f3d09de57",
   "metadata": {},
   "source": [
    "##### Within-group variance(within group sum of square, SSW or SSE):\n",
    "- This is component represents the variability within each group, calculated as the sum of squared differences between individual data points and thier respective group means. "
   ]
  },
  {
   "cell_type": "code",
   "execution_count": 6,
   "id": "9beafb75-fd24-4633-8f31-049f1f4944cc",
   "metadata": {},
   "outputs": [
    {
     "name": "stdout",
     "output_type": "stream",
     "text": [
      "20.4\n"
     ]
    }
   ],
   "source": [
    "## calculating SSW\n",
    "ssw_g1 = np.sum((group1 - np.mean(group1))**2)\n",
    "ssw_g2 = np.sum((group2 - np.mean(group2))**2)\n",
    "ssw_g3 = np.sum((group3 - np.mean(group3))**2)\n",
    "\n",
    "ssw = ssw_g1+ssw_g2+ssw_g3\n",
    "\n",
    "## printing value\n",
    "print(ssw)"
   ]
  },
  {
   "cell_type": "markdown",
   "id": "c8d692bf-304a-4f95-b951-acfc48e7a105",
   "metadata": {},
   "source": [
    "##### Between-Group variance(Between group sum of squares, SSB): \n",
    "- this component represents the variability in the dependent varibale that can be attributed to differences between the group mean. it is calculated as the sum of squared differences between each group mean and overall mean, weighted by the number of observations in each group."
   ]
  },
  {
   "cell_type": "code",
   "execution_count": 5,
   "id": "27c7881c-05d4-46f2-badd-ad9bf9712583",
   "metadata": {},
   "outputs": [
    {
     "name": "stdout",
     "output_type": "stream",
     "text": [
      "346.80000000000007\n"
     ]
    }
   ],
   "source": [
    "## to calculate SSB\n",
    "## calculating group means\n",
    "group_means = np.array([np.mean(group1), np.mean(group2), np.mean(group3)])\n",
    "\n",
    "## calculate SSB\n",
    "ssb_g1 = np.sum((group_means - overall_mean)**2 * len(group1))\n",
    "ssb_g2 = np.sum((group_means - overall_mean)**2 * len(group2))\n",
    "ssb_g3 = np.sum((group_means - overall_mean)**2 * len(group3))\n",
    "\n",
    "ssb = ssb_g1+ssb_g2+ssb_g3\n",
    "\n",
    "## printing result\n",
    "print(ssb)"
   ]
  },
  {
   "cell_type": "markdown",
   "id": "b2a4620e-655e-4b1d-8059-88bcda795baa",
   "metadata": {},
   "source": [
    "## 5 . in a two-way ANOVA how would you calculate main effects and interaction effects using python ?"
   ]
  },
  {
   "cell_type": "code",
   "execution_count": 15,
   "id": "6924a979-b6e5-42cd-b783-de1b3799a057",
   "metadata": {},
   "outputs": [
    {
     "name": "stdout",
     "output_type": "stream",
     "text": [
      "Main Effect A : 0.10856569305704605\n",
      "Main Effect B : 0.09282694317026069\n",
      "Interaction Effect :  0.06010079135128697\n"
     ]
    }
   ],
   "source": [
    "## we need statistical model to use two way ANOVA\n",
    "## imoprting required modules\n",
    "import numpy as np\n",
    "import pandas as pd\n",
    "import statsmodels.api as sm\n",
    "from statsmodels.formula.api import ols\n",
    "\n",
    "## Example data for two independent factors with two levels each\n",
    "data = pd.DataFrame({\n",
    "    'A':np.repeat(['A1','A2'],20),\n",
    "    'B':np.tile(['B1','B2'],20),\n",
    "    'Response':np.random.rand(40)\n",
    "})\n",
    "\n",
    "## model\n",
    "## this formula specifies main effects and interactions for A,B,A:B\n",
    "model = ols('Response ~ A + B + A:B', data=data).fit() \n",
    "\n",
    "## perform ANOVA\n",
    "anova_table = sm.stats.anova_lm(model, typ=2)\n",
    "\n",
    "## Extracting main effects and interaction effects\n",
    "main_effect_A = anova_table['sum_sq']['A'] / anova_table['df']['A']\n",
    "main_effect_B = anova_table['sum_sq']['B'] / anova_table['df']['B']\n",
    "interaction_effect = anova_table['sum_sq']['A:B'] / anova_table['df']['A:B']\n",
    "\n",
    "## printing the results\n",
    "print(\"Main Effect A :\", main_effect_A)\n",
    "print(\"Main Effect B :\", main_effect_B)\n",
    "print(\"Interaction Effect : \", interaction_effect)"
   ]
  },
  {
   "cell_type": "markdown",
   "id": "b4789b59-8aa7-4cb9-b0d9-e1bf84fa6527",
   "metadata": {},
   "source": [
    "### 6 . Suppose you conducted a one-way ANOVA and obtained an F-statistic of 5.23 and a p-value of 0.02.What can you conclude about the differences between the groups, and how would you interpret these results?"
   ]
  },
  {
   "cell_type": "markdown",
   "id": "b3f5d570-8a29-4eec-84ad-91a06c14f570",
   "metadata": {},
   "source": [
    "- F-statistic compares the variance between group means to the variance within groups. a higher F-statistic suggests larger differences between group means relative to the variability within each group\n",
    "\n",
    "- The associated P-value helps determine the statistical significance of observed f-statistic.\n",
    "\n",
    "##### interpretation :\n",
    "- With p-value of 0.02, which is less than the commonly used significnace level of 0.05, there is evidence to reject the null hypothesis.\n",
    "- we can conclude that there are statistically significnat differences between at least two of the groups "
   ]
  },
  {
   "cell_type": "markdown",
   "id": "4eec1631-c6cf-454e-826e-7fe54aae2bcc",
   "metadata": {},
   "source": [
    "### 7 . in a repeated measures ANOVA, how would you handle missing data and what are the potential consequences of using different methods to handle missing data ?"
   ]
  },
  {
   "cell_type": "markdown",
   "id": "6b22b357-c077-4b0b-b9af-0a0424e8c7f6",
   "metadata": {},
   "source": [
    "##### The approach we choose to handle missing data can impact the validity and reliability of the analysis. the common methods for handling missing data is :\n",
    "\n",
    "###### 1. Complete case Analysis : It means Excluding the missing data from analysis.\n",
    "- Consequence : Reduces sample size, leading to loss of statistical power\n",
    "\n",
    "###### 2. Mean manipulation : Replace missing values with the mean of the observed values for the that variable\n",
    "- Consequence : preserves the sample size but may underestimate variability. \n",
    "\n",
    "###### 3. Last observation carried forward(LOCF) or Next observation carried backward(NOCB) : Replace missing values with the last(or next) observed value for that participant \n",
    "- Consequence : Assumes that missing values are constant or follow a specific pattern over time.\n",
    "\n",
    "###### 4. Interpolation or Linear regression imputaion : Use statistical techniques to estimate missing values based on observed data.\n",
    "- Consequence : Better than mean imputation but assumptions about the underlying data wont be met, sensitive to outliers or non-linear patterns\n",
    "\n",
    "###### 5. Multiple imputation : Generate multiple plausible imputations for each missing value and analyze each imputed dataset separately then combine.\n",
    "- Consequence : Requires more computational power and assumes missing data are missing at random or missing at random conditional on observed variables."
   ]
  },
  {
   "cell_type": "markdown",
   "id": "ee5ba8c7-1f13-4065-b911-92fbae03a231",
   "metadata": {},
   "source": [
    "### 8 . what are some common post-hoc tests used after ANOVA and when would you use each one? provide an example of a situation where a post-hoc test might be necessary"
   ]
  },
  {
   "cell_type": "markdown",
   "id": "8befc4f8-216b-4207-8290-666fd334275d",
   "metadata": {},
   "source": [
    "##### Common post-hoc tests used after ANOVA :\n",
    "###### 1. Tukey's Honestly significant difference (HSD) : \n",
    "- When to use : It is conservative and suitable when you have a balanced design (equal sample sizes) and want to control the family wise error rate. its appropriate three or more errors.\n",
    "\n",
    "###### 2. Bonferroni Correction :\n",
    "- When to use : It is a conservative correction that is useful when conducting multiple pairwise comparisions. it controls the familywise error rate by adjusting the significance level.\n",
    "\n",
    "###### 3. Sidak correction : \n",
    "- When to use : Similar to Bonferroni, sidak is another conservative correction method for multiple comparisions. it is less conservative than Bonferroni and is appropriate when you have moderate number of comparisions.\n",
    "\n",
    "###### 4. Dunnett's test :\n",
    "- When to use : Dunnet's test is suitable when you have a control group and you want to compare each treatment group to the control. it protects against inflated type 1 error rates associated with multiple comparisions\n",
    "\n",
    "###### 5. Holm's method :\n",
    "- When to use : it is a step-down procedure that controls the familywise error rate. it is flexible and less conservative than Bonferroni. it is suitable for a variety of post-hoc situations.\n",
    "\n",
    "##### Example situation where post-hoc test is necessary :\n",
    "- A teacher is trying three different teaching methods to se if they affect students exam scores. we find there is a significant effect. and now we want to know exactly which specific pairs of teaching maethods are leading to significantly different scores. This is where post-hoc test comes in handy. it helps compare Method A, Method B, Mathod C to each other to pinpoint exactly where differences lie. the post-hoc is done after using ANOVA."
   ]
  },
  {
   "cell_type": "markdown",
   "id": "172dab78-5714-4f88-9382-712135f9b9d8",
   "metadata": {},
   "source": [
    "### 9 . A researcher wants to compare the mean weight loss of three diets: A, B, and C. They collect data from 50 participants who were randomly assigned to one of the diets. Conduct a one-way ANOVA using Python to determine if there are any significant differences between the mean weight loss of the three diets. Report the F-statistic and p-value, and interpret the results."
   ]
  },
  {
   "cell_type": "code",
   "execution_count": 6,
   "id": "97a0364f-ae3e-407e-86c2-96b298e91478",
   "metadata": {},
   "outputs": [
    {
     "name": "stdout",
     "output_type": "stream",
     "text": [
      "One-Way ANOVA results:\n",
      "F-statistic : 37.73466963664033\n",
      "p-value is :  5.935632151744614e-14\n",
      "The one-way ANOVA indicates a significant difference in mean weight loss\n"
     ]
    }
   ],
   "source": [
    "## importing required modules \n",
    "import numpy as np\n",
    "import scipy.stats as stats\n",
    "\n",
    "## Generating sample weightloss data\n",
    "np.random.seed(3) \n",
    "diet_A = np.random.normal(loc=2, scale=1, size=50)\n",
    "diet_B = np.random.normal(loc=3, scale=1, size=50)\n",
    "diet_c = np.random.normal(loc=1.5, scale=1, size=50)\n",
    "\n",
    "## concatanate the data for ANOVA\n",
    "weight_loss = np.concatenate([diet_A,diet_B,diet_c])\n",
    "\n",
    "## perform one-way ANOVA\n",
    "f_stat,p_value = stats.f_oneway(diet_A,diet_B,diet_c)\n",
    "\n",
    "## printing results\n",
    "print(\"One-Way ANOVA results:\")\n",
    "print(\"F-statistic :\", f_stat)\n",
    "print(\"p-value is : \",p_value)\n",
    "\n",
    "## interpretation\n",
    "if p_value < 0.05:\n",
    "    print(\"The one-way ANOVA indicates a significant difference in mean weight loss\")\n",
    "else:\n",
    "    print(\"There is not enough evidence from one-way ANOVA to reject null hypothesis \")"
   ]
  },
  {
   "cell_type": "markdown",
   "id": "7cf28b22-ca25-420e-a13d-1f0accb2393c",
   "metadata": {},
   "source": [
    "### 10 . A company wants to know if there are any significant differences in the average time it takes to complete a task using three different software programs : Program A,B,C they randomly assign 30 employees to one of the programs to record the time it takes each employee to complete task. conduct a two way ANOVA using python to determine if there are any main effects or interaction effects between software programs and employees experience levels (novice vs experienced) report f-statistic and p-value and interpret the results.\n"
   ]
  },
  {
   "cell_type": "code",
   "execution_count": 54,
   "id": "bfa97024-e80b-4a64-95e2-8c4f3cfa0cb1",
   "metadata": {},
   "outputs": [
    {
     "name": "stdout",
     "output_type": "stream",
     "text": [
      "Two-way ANOVA results!\n",
      "Main Effect between software :  0.4009398360337057\n",
      "Main effect between experience :  0.1355715026777578\n",
      "Interaction effect between :  6.135878517014176\n",
      "                         sum_sq    df         F    PR(>F)\n",
      "Software               0.801880   2.0  0.094920  0.909543\n",
      "Experience             0.135572   1.0  0.032096  0.858249\n",
      "Software:Experience   12.271757   2.0  1.452632  0.239770\n",
      "Residual             354.813810  84.0       NaN       NaN\n",
      "Interpretation:\n",
      " All the P-values are above significance level of 0.05, \n",
      "hence we can say that there is no significnat main effects or interaction effects in the data\n"
     ]
    }
   ],
   "source": [
    "## importing required modules \n",
    "import numpy as np\n",
    "import pandas as pd\n",
    "import statsmodels.api as sm\n",
    "from statsmodels.formula.api import ols\n",
    "\n",
    "## Generate hypothetical data\n",
    "np.random.seed(4)\n",
    "n = 30 ## number of employee in each group\n",
    "\n",
    "## software programme: A,B,C\n",
    "software = np.repeat(['A','B','C'],n)\n",
    "\n",
    "## employee experience level novie/experienced\n",
    "experience = np.tile(['Novice','Experienced'], 45 ) ## used 45 to match total outcomes in df\n",
    "\n",
    "## randomly generated task completion time \n",
    "task_time = np.random.normal(loc = 10, scale = 2, size = n * 3)\n",
    "\n",
    "## creating dataframe \n",
    "df = pd.DataFrame({'Software':software, 'Experience': experience, 'Tasktime' : task_time})\n",
    "\n",
    "## fit a two-way ANOVA model\n",
    "model = ols('Tasktime ~ Software * Experience', data=df).fit()\n",
    "\n",
    "## perform ANOVA \n",
    "anova_table = sm.stats.anova_lm(model,typ=2)\n",
    "\n",
    "## main effects and interaction\n",
    "main_effect_A = anova_table['sum_sq']['Software'] / anova_table['df']['Software']\n",
    "main_effect_B = anova_table['sum_sq']['Experience'] / anova_table['df']['Experience']\n",
    "interaction_effect = anova_table['sum_sq']['Software:Experience'] / anova_table['df']['Software:Experience']\n",
    "\n",
    "## print ANOVA results\n",
    "print(\"Two-way ANOVA results!\")\n",
    "print(\"Main Effect between software : \",main_effect_A)\n",
    "print(\"Main effect between experience : \", main_effect_B)\n",
    "print(\"Interaction effect between : \",interaction_effect)\n",
    "print(anova_table)\n",
    "print(\"\"\"Interpretation:\\n All the P-values are above significance level of 0.05, \n",
    "hence we can say that there is no significnat main effects or interaction effects in the data\"\"\")"
   ]
  },
  {
   "cell_type": "markdown",
   "id": "285842ba-3610-477e-a95d-3364d8f9c608",
   "metadata": {},
   "source": [
    "### 11 . an educational researcher is interested in whether a new teaching method improves student test scores. they randomly assign 100 students to either control group or experimental group and administer a test at the end of the semester. conduct two sample t-test using python to determine if there are any significant differences in test scores between two groups. if results are significant follow up with post-hoc test to determine which groups differ significantly from each other."
   ]
  },
  {
   "cell_type": "code",
   "execution_count": 68,
   "id": "65e64b4d-db54-4e5f-9e57-e92dd2ffb6d7",
   "metadata": {},
   "outputs": [
    {
     "name": "stdout",
     "output_type": "stream",
     "text": [
      "Two sample T-test Results :\n",
      "t-statistic is :  -2.606383481758298\n",
      "P-Value is :  0.010577861462870278\n",
      "\n",
      "Interpretation : \n",
      " Since P value is less than significant level 0.05. it is safe to \n",
      "conlude that there is significant effect of different study experiment group.\n",
      " \n",
      "as this is two sample t-test\n",
      "using only two variables we cannot perform post-hoc test, as it is usually performed after \n",
      "ANOVA with two or more groups in the data.\n"
     ]
    }
   ],
   "source": [
    "## importing required modules\n",
    "import numpy as np\n",
    "from scipy.stats import ttest_ind\n",
    "\n",
    "## setting seed \n",
    "np.random.seed(5)\n",
    "\n",
    "## generating data for the test scores\n",
    "control_group = np.random.normal(loc=70,scale=10,size=50)\n",
    "experimental_group = np.random.normal(loc=75,scale=10,size=50)\n",
    "\n",
    "## perform two sample t-test\n",
    "t_statistic,p_value = ttest_ind(control_group,experimental_group)\n",
    "\n",
    "## printing results\n",
    "print(\"Two sample T-test Results :\")\n",
    "print(\"t-statistic is : \",t_statistic)\n",
    "print(\"P-Value is : \",p_value)\n",
    "print(\"\"\"\\nInterpretation : \\n Since P value is less than significant level 0.05. it is safe to \n",
    "conlude that there is significant effect of different study experiment group.\\n \n",
    "as this is two sample t-test\n",
    "using only two variables we cannot perform post-hoc test, as it is usually performed after \n",
    "ANOVA with two or more groups in the data.\"\"\")"
   ]
  },
  {
   "cell_type": "markdown",
   "id": "1d8f616e-0f10-44d2-b183-b4ad9018ee4d",
   "metadata": {},
   "source": [
    "### 12 . A researcher wants to know if there are any significant differences in the average daily sales of three retail stores: Store A, Store B, and Store C. They randomly select 30 days and record the sales for each store on those days. Conduct a repeated measures ANOVA using Python to determine if there are any significant differences in sales between the three stores. If the results are significant, follow up with a post-hoc test to determine which store(s) differ significantly from each other."
   ]
  },
  {
   "cell_type": "code",
   "execution_count": 3,
   "id": "b77e45f0-cf33-498a-8eba-498ec77f13cc",
   "metadata": {},
   "outputs": [
    {
     "name": "stdout",
     "output_type": "stream",
     "text": [
      "Repeated Measures ANOVA Results:\n",
      "               Anova\n",
      "===================================\n",
      "      F Value Num DF  Den DF Pr > F\n",
      "-----------------------------------\n",
      "Store 10.3408 2.0000 58.0000 0.0001\n",
      "===================================\n",
      "\n",
      "\n",
      "Tukey's HSD Post-Hoc Test:\n",
      " Multiple Comparison of Means - Tukey HSD, FWER=0.05 \n",
      "=====================================================\n",
      "group1 group2 meandiff p-adj   lower    upper  reject\n",
      "-----------------------------------------------------\n",
      "     A      B  21.3397 0.0001   9.7429 32.9365   True\n",
      "     A      C  14.0206 0.0136   2.4238 25.6175   True\n",
      "     B      C  -7.3191 0.2936 -18.9159  4.2778  False\n",
      "-----------------------------------------------------\n"
     ]
    }
   ],
   "source": [
    "import numpy as np\n",
    "import pandas as pd\n",
    "import statsmodels.api as sm\n",
    "from statsmodels.stats.anova import AnovaRM\n",
    "from statsmodels.stats.multicomp import pairwise_tukeyhsd\n",
    "\n",
    "# Set seed for reproducibility\n",
    "np.random.seed(42)\n",
    "\n",
    "# Generate hypothetical daily sales data for three stores\n",
    "store_A = np.random.normal(loc=100, scale=20, size=30)\n",
    "store_B = np.random.normal(loc=120, scale=20, size=30)\n",
    "store_C = np.random.normal(loc=110, scale=20, size=30)\n",
    "\n",
    "# Create a DataFrame with repeated measures structure\n",
    "df_sales_repeated = pd.DataFrame({\n",
    "    'Day': np.tile(np.arange(1, 31), 3),\n",
    "    'Store': np.repeat(['A', 'B', 'C'], 30),\n",
    "    'Sales': np.concatenate([store_A, store_B, store_C])\n",
    "})\n",
    "\n",
    "# Fit repeated measures ANOVA model\n",
    "model = AnovaRM(df_sales_repeated, 'Sales', 'Day', within=['Store'])\n",
    "results = model.fit()\n",
    "\n",
    "# Print ANOVA results\n",
    "print(\"Repeated Measures ANOVA Results:\")\n",
    "print(results.summary())\n",
    "print(\"Since P-value is \")\n",
    "## performing post-hoc test \n",
    "## tukey's HSD test\n",
    "tukey_results = pairwise_tukeyhsd(df_sales_repeated['Sales'], df_sales_repeated['Store'])\n",
    "print(\"\\nTukey's HSD Post-Hoc Test:\")\n",
    "print(tukey_results)"
   ]
  }
 ],
 "metadata": {
  "kernelspec": {
   "display_name": "Python 3 (ipykernel)",
   "language": "python",
   "name": "python3"
  },
  "language_info": {
   "codemirror_mode": {
    "name": "ipython",
    "version": 3
   },
   "file_extension": ".py",
   "mimetype": "text/x-python",
   "name": "python",
   "nbconvert_exporter": "python",
   "pygments_lexer": "ipython3",
   "version": "3.10.8"
  }
 },
 "nbformat": 4,
 "nbformat_minor": 5
}

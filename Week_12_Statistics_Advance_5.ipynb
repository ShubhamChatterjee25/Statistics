{
 "cells": [
  {
   "cell_type": "markdown",
   "id": "2421c2ff-5d6b-4e05-8ca9-7e9979d2033c",
   "metadata": {},
   "source": [
    "### 1 . Calculate the 95% confidence interval for a sample of data with a mean of 50 and a standard deviation of 5 using python. interpret the results."
   ]
  },
  {
   "cell_type": "code",
   "execution_count": 7,
   "id": "98b4adf5-0d5f-4663-926d-afedd674c969",
   "metadata": {},
   "outputs": [
    {
     "name": "stdout",
     "output_type": "stream",
     "text": [
      "95% Confidence  interval : (49.02001800772997, 50.97998199227003)\n",
      "\n",
      "Interpretation:\n",
      " \n",
      "The 95% confidence interval for the population mean \n",
      "is from the 49.02 to the 50.9. This interval suggests that \n",
      "we are 95% confident that the true population mean falls within this range based \n",
      "on the information from our sample\n"
     ]
    }
   ],
   "source": [
    "## importing required modules\n",
    "import scipy.stats as stats\n",
    "\n",
    "## Given data\n",
    "sample_mean = 50\n",
    "sample_std = 5\n",
    "confidence_lvl = 0.95\n",
    "sample_size = 100 ## assuming it has 100\n",
    "\n",
    "## calculate margin of error\n",
    "margin_of_error = stats.norm.ppf((1 + confidence_lvl) /2) * (sample_std/ (sample_size**0.5))\n",
    "\n",
    "## calculating confidence interval\n",
    "confidence_interval = (sample_mean - margin_of_error, sample_mean + margin_of_error)\n",
    "\n",
    "## printing result\n",
    "print(f\"95% Confidence  interval : {confidence_interval}\\n\")\n",
    "print(\"\"\"Interpretation:\\n \n",
    "The 95% confidence interval for the population mean \n",
    "is from the 49.02 to the 50.9. This interval suggests that \n",
    "we are 95% confident that the true population mean falls within this range based \n",
    "on the information from our sample\"\"\")"
   ]
  },
  {
   "cell_type": "markdown",
   "id": "db176dc9-44f7-480d-9b00-b1bdf8757176",
   "metadata": {},
   "source": [
    "### 2 . Conduct a chi-squared goodness of fit test to determine if the distribution of colors of M&M in a bag matches the expected distribution of 20% blue, 20% Orange, 20% green, 10% yellow, 10% red and 20% brown. use python for the test with significance level of 0.05"
   ]
  },
  {
   "cell_type": "code",
   "execution_count": 18,
   "id": "d3eacee8-e022-4181-b543-4a65d071abe0",
   "metadata": {},
   "outputs": [
    {
     "name": "stdout",
     "output_type": "stream",
     "text": [
      "Accept the null hypothesis, distribution of colors match\n"
     ]
    }
   ],
   "source": [
    "## importing required modules\n",
    "import scipy.stats as stats\n",
    "import numpy\n",
    "\n",
    "## given data \n",
    "significance = 0.05\n",
    "confidence = 1 - significance\n",
    "expected_dist = [20,20,20,10,10,20]\n",
    "observed_dist = [25,15,20,10,15,15] ## assumed observed data\n",
    "\n",
    "## Chi square goodness of fit\n",
    "chisquare_test_statistic,p_value = stats.chisquare(observed_dist,expected_dist)\n",
    "\n",
    "## degree of freedom\n",
    "dof = len(expected_dist) - 1 ## categories length \n",
    "\n",
    "## calculating critical value\n",
    "critical_value = stats.chi2.ppf(confidence,dof)\n",
    "\n",
    "## conclusion\n",
    "if chisquare_test_statistic > critical_value:\n",
    "    print(\"Reject the null hypothesis, does not match\")\n",
    "else:\n",
    "    print(\"Accept the null hypothesis, distribution of colors match\")"
   ]
  },
  {
   "cell_type": "markdown",
   "id": "122f19c2-05a3-4721-a4fe-ec0b0072db21",
   "metadata": {},
   "source": [
    "### 3 . Use python to calculate chi-square statistic and p-value for a contingency table with data"
   ]
  },
  {
   "cell_type": "code",
   "execution_count": 9,
   "id": "5bb08eec-20d0-44c0-8d46-c080f78a3bdd",
   "metadata": {},
   "outputs": [
    {
     "name": "stdout",
     "output_type": "stream",
     "text": [
      "Accept the null hypothesis H0\n",
      "The Chi-Square statistic is : 5.833333333333334\n",
      "P value is : 0.05411376622282158\n",
      "Interpretation:\n",
      " Since P value is greater than significance value we accept the null hypothesis \n"
     ]
    }
   ],
   "source": [
    "## importing modules \n",
    "import scipy.stats as stats\n",
    "\n",
    "## defining data from given data\n",
    "data = [[20,15],[10,25],[15,20]]\n",
    "\n",
    "## calculating contingency for the data\n",
    "chisquare,p,dof,expected = stats.chi2_contingency(data)\n",
    "\n",
    "## comparing the p value to significance\n",
    "alpha = 0.05\n",
    "if p <= alpha:\n",
    "    print(\"Reject the null hypothesis\")\n",
    "else:\n",
    "    print(\"Accept the null hypothesis H0\")\n",
    "\n",
    "## printing the results \n",
    "print(f\"The Chi-Square statistic is : {chisquare}\")\n",
    "print(f\"P value is : {p}\")\n",
    "print(\"Interpretation:\\n Since P value is greater than significance value we accept the null hypothesis \")\n"
   ]
  },
  {
   "cell_type": "markdown",
   "id": "80ffbcb2-3f99-4ec4-97fa-5f8b77cef5ab",
   "metadata": {},
   "source": [
    "### 4 . A study of the prevalance of smoking in a population of 500 individuals found that 60 individuals smoked. use python to calculate the 95% confidence interval for the true proportion of individuals in the population who smoke."
   ]
  },
  {
   "cell_type": "code",
   "execution_count": 16,
   "id": "758645bf-8f1a-48ce-8e05-36868e2fd4ce",
   "metadata": {},
   "outputs": [
    {
     "name": "stdout",
     "output_type": "stream",
     "text": [
      "95% Confidence Interval: (0.09151638887130707, 0.1484836111286929)\n"
     ]
    }
   ],
   "source": [
    "## importing required modules \n",
    "import math\n",
    "import scipy.stats as stats\n",
    "\n",
    "## Given data\n",
    "sample_size = 500\n",
    "confidence_lvl = 0.95\n",
    "sample_proportion = 60/500\n",
    "\n",
    "# Z-score for a 95% confidence interval\n",
    "z_score = stats.norm.ppf((1 + confidence_lvl) / 2)\n",
    "\n",
    "# Calculate the margin of error\n",
    "margin_of_error = z_score * math.sqrt ((sample_proportion * (1 - sample_proportion))/sample_size)\n",
    "\n",
    "# Calculate the confidence interval\n",
    "confidence_interval = (sample_proportion - margin_of_error, sample_proportion + margin_of_error)\n",
    "\n",
    "## results\n",
    "print(f\"95% Confidence Interval: {confidence_interval}\")"
   ]
  },
  {
   "cell_type": "markdown",
   "id": "7b9bb2c4-5569-4399-9726-b1ab43eac835",
   "metadata": {},
   "source": [
    "### 5 . Calculate the 90% confidence interval for a sample of data with a mean of 75 and a standard deviation of 12 using python. interpret results"
   ]
  },
  {
   "cell_type": "code",
   "execution_count": 23,
   "id": "2ed4823d-0f51-4587-b022-bdcaaa30110e",
   "metadata": {},
   "outputs": [
    {
     "name": "stdout",
     "output_type": "stream",
     "text": [
      "90% Confidence Interval is : (72.20859083117598, 77.79140916882402)\n"
     ]
    }
   ],
   "source": [
    "## given data\n",
    "sample_mean = 75\n",
    "sample_std = 12\n",
    "confidence_lvl = 0.90\n",
    "sample_size = 50 ## assuming sample size is 50\n",
    "\n",
    "## calculating margin of error\n",
    "margin_of_error = stats.norm.ppf((1+confidence_lvl) /2) * (sample_std/(sample_size**0.5))\n",
    "\n",
    "## calculating confidence interval\n",
    "confidence_interval = (sample_mean - margin_of_error, sample_mean + margin_of_error)\n",
    "\n",
    "## results \n",
    "print(f\"90% Confidence Interval is : {confidence_interval}\")"
   ]
  },
  {
   "cell_type": "markdown",
   "id": "41302b32-9238-4375-a3fc-8a212f12c793",
   "metadata": {},
   "source": [
    "### 6 . Use python to plot chi-square distribution with 10 dof. label axes and shade the area corresponding to a chisquare statistic of 15."
   ]
  },
  {
   "cell_type": "code",
   "execution_count": 6,
   "id": "a47df7da-0d6b-47af-9980-903437dcd220",
   "metadata": {},
   "outputs": [
    {
     "data": {
      "image/png": "[encoded data removed]",
      "text/plain": [
       "<Figure size 640x480 with 1 Axes>"
      ]
     },
     "metadata": {},
     "output_type": "display_data"
    }
   ],
   "source": [
    "## importing required modules \n",
    "import numpy as np\n",
    "import matplotlib.pyplot as plt\n",
    "import scipy.stats as stats\n",
    "\n",
    "## degree of fredom\n",
    "dof = 10 \n",
    "\n",
    "## generating values\n",
    "x_values = np.linspace(0,30,1000)\n",
    "\n",
    "## plotting the chi-square distribution\n",
    "plt.plot(x_values, stats.chi2.pdf(x_values,dof), label=\"chi-square with 10 degree of freedom\")\n",
    "\n",
    "## shading the area corresponding to the area of chi-statistic 15\n",
    "x_shade = np.linspace(0,15,1000)\n",
    "plt.fill_between(x_shade, stats.chi2.pdf(x_shade,dof), color='blue',alpha=0.5,label='chi-statistic = 15')\n",
    "\n",
    "## Labelling the axes \n",
    "plt.xlabel('Chi-Square Statistic')\n",
    "plt.ylabel('Probability Density Function')\n",
    "plt.title('Chi-Squared Distribution')\n",
    "plt.legend()\n",
    "\n",
    "## showing the plot\n",
    "plt.show()"
   ]
  },
  {
   "cell_type": "markdown",
   "id": "db64e62e-f300-4b0e-8cac-7e17bbd18dc6",
   "metadata": {},
   "source": [
    "### 7 . A random sample of 1000 people was asked if they preferred coke or pepsi. of the sample 520 preferred coke. calculate 99% confidence interval for the true proportion of people in the population who prefer coke."
   ]
  },
  {
   "cell_type": "code",
   "execution_count": 12,
   "id": "e0b2400c-3e46-43a6-94e7-b4b4bfccbe1c",
   "metadata": {},
   "outputs": [
    {
     "name": "stdout",
     "output_type": "stream",
     "text": [
      "99% of confidence interval of people who prefer coke is : (0.4793051576779699, 0.5606948423220302)\n"
     ]
    }
   ],
   "source": [
    "## importing required modules\n",
    "import math\n",
    "\n",
    "## Given data\n",
    "sample_size = 1000\n",
    "confidence_lvl = 0.99\n",
    "sample_proportion = 520/1000\n",
    "\n",
    "## calculating z-score\n",
    "z_score = stats.norm.ppf((1+confidence_lvl)/2) \n",
    "\n",
    "## calculating margin of error\n",
    "margin_of_error = z_score * math.sqrt((sample_proportion* (1 - sample_proportion)/sample_size))\n",
    "\n",
    "## calculating confidence interval\n",
    "confidence_interval = (sample_proportion - margin_of_error, sample_proportion + margin_of_error)\n",
    "\n",
    "## printing result\n",
    "print(f\"\"\"99% of confidence interval of people who prefer coke is : {confidence_interval}\"\"\")"
   ]
  },
  {
   "cell_type": "markdown",
   "id": "704145ac-bc36-4675-9d94-c55fe2fd0aec",
   "metadata": {},
   "source": [
    "### 8 . A researcher hypothesizes that a coin is biased towards tails. they flip coin 100 times and observe 45 tails. conduct a chi-sqaure goodness of fit test to determine if the observed frequencies match the expected frequencies of a fair coin. use significance level of 0.05"
   ]
  },
  {
   "cell_type": "code",
   "execution_count": 23,
   "id": "d10f9a32-9617-44dc-ae9a-50019cfa20a1",
   "metadata": {},
   "outputs": [
    {
     "name": "stdout",
     "output_type": "stream",
     "text": [
      "Fail to reject the null hypothesis, the coin appears to be fair\n",
      "Chi square statistic is : 1.0\n",
      "P value is : 0.31731050786291115\n"
     ]
    }
   ],
   "source": [
    "## importing required modules\n",
    "import numpy as np\n",
    "import scipy.stats as stats\n",
    "\n",
    "## Given data\n",
    "observed_tails = 45\n",
    "total_flips = 100\n",
    "significance_lvl = 0.05\n",
    "\n",
    "## Expected frequencies of a fair coin\n",
    "expected_tails = total_flips / 2\n",
    "expected_heads = total_flips / 2\n",
    "\n",
    "## observed frequencies\n",
    "observed_freq = [total_flips - observed_tails, observed_tails ]\n",
    "\n",
    "## expected frequencies\n",
    "expected_freq = [expected_heads,expected_tails]\n",
    "\n",
    "## conducting chi-square goodness of fit test\n",
    "chi2_statistic,p_value = stats.chisquare(f_obs=observed_freq,f_exp=expected_freq)\n",
    "\n",
    "## comparing p value and significance level\n",
    "if p_value < significance_lvl:\n",
    "    print(\"reject the null hypothesis, coin maybe biased towards tails\")\n",
    "else:\n",
    "    print(\"Fail to reject the null hypothesis, the coin appears to be fair\")\n",
    "    \n",
    "## printing the values\n",
    "print(f\"Chi square statistic is : {chi2_statistic}\")\n",
    "print(f\"P value is : {p_value}\")\n"
   ]
  },
  {
   "cell_type": "markdown",
   "id": "ce85e6b4-2f66-4a34-8d27-58cfb8ecab98",
   "metadata": {},
   "source": [
    "### 9 . A study was conducted to determine if there is an association between smoking status and lung cancer diagnosis. the results are shown in the contengency table below. conduct a chi-squared test for independence to determine if there is any significance association between smoking and lung cancer.use significance level of 0.05"
   ]
  },
  {
   "cell_type": "code",
   "execution_count": 29,
   "id": "ed3163b5-3f22-4294-9a14-3ea8d7007258",
   "metadata": {},
   "outputs": [
    {
     "name": "stdout",
     "output_type": "stream",
     "text": [
      "Chi-square Statistic: 12.057347670250895\n",
      "P-value: 0.0005158863863703744\n",
      "Degrees of Freedom: 1\n",
      "Expected Frequencies:\n",
      " [[ 45. 155.]\n",
      " [ 45. 155.]]\n",
      "Reject the null hypothesis, There is significant association between smoking and lung cancer\n"
     ]
    }
   ],
   "source": [
    "## Given data\n",
    "significance_lvl = 0.05\n",
    "data = [[60,140],[30,170]]\n",
    "\n",
    "## calculating contingency for the data\n",
    "chisquare,p,dof,expected = stats.chi2_contingency(data)\n",
    "\n",
    "# Print the results\n",
    "print(f\"Chi-square Statistic: {chi2_stat}\")\n",
    "print(f\"P-value: {p_value}\")\n",
    "print(f\"Degrees of Freedom: {dof}\")\n",
    "print(f\"Expected Frequencies:\\n {expected}\")\n",
    "\n",
    "## comparing the p value to significance\n",
    "if p <= significance_lvl:\n",
    "    print(\"Reject the null hypothesis, There is significant association between smoking and lung cancer\")\n",
    "else:\n",
    "    print(\"Fail to Reject the null hypothesis, there is not enough evidence\")"
   ]
  },
  {
   "cell_type": "markdown",
   "id": "3c16e178-bea7-420a-aab5-b6e12782e244",
   "metadata": {},
   "source": [
    "### 10 . A study was conducted to determine if the proportion of people who prefer milk chocolate,dark chocolate, or white chocolate is different in the U.S versus U.K. A random sample of 500 people from the U.S and random sample of 500 people from U.K were surveyed. the results are shown in the contingency table below. conduct chi-square test for independence to determine if there is significant association between chocolate preference and country of origin. significance level of 0.01"
   ]
  },
  {
   "cell_type": "code",
   "execution_count": 33,
   "id": "553c81cb-d720-4c9e-a5e5-c4e700033f0e",
   "metadata": {},
   "outputs": [
    {
     "name": "stdout",
     "output_type": "stream",
     "text": [
      "Chi Square Statistic = 13.393665158371041\n",
      "P value is : 0.0012348168997745918\n",
      "Degree of Freedom is : 2\n",
      "Expected frequency :\n",
      " [[212.5 162.5 125. ]\n",
      " [212.5 162.5 125. ]]\n",
      "Reject the null hypothesis, there is significant associaton\n",
      "            between chocolate preference and country of origin \n"
     ]
    }
   ],
   "source": [
    "## Given data\n",
    "significance_lvl = 0.01\n",
    "data = [[200,150,150],[225,175,100]]\n",
    "\n",
    "## calculating chi-square test of independence\n",
    "chi2_stat,p,dof,expected = stats.chi2_contingency(data)\n",
    "\n",
    "## printing the values\n",
    "print(f\"Chi Square Statistic = {chi2_stat}\")\n",
    "print(f\"P value is : {p}\")\n",
    "print(f\"Degree of Freedom is : {dof}\")\n",
    "print(f\"Expected frequency :\\n {expected}\")\n",
    "\n",
    "## Comparing P value to significance value\n",
    "if p < significance_lvl:\n",
    "    print(\"\"\"Reject the null hypothesis, there is significant associaton\n",
    "            between chocolate preference and country of origin \"\"\")\n",
    "else:\n",
    "    print(\"Fail to reject, there is not enough evidence to conclude \")"
   ]
  },
  {
   "cell_type": "markdown",
   "id": "eecea095-962e-4e66-aa07-fcde63c08afd",
   "metadata": {},
   "source": [
    "### 11 . A random sample of 30 people was selected from a population with an unknown mean and standard deviation. the sample mean was found to be 72 and sample standard deviation was 10. conduct hypothesis test to determine if the population mean is significantly different from 70. use significance level of 0.05."
   ]
  },
  {
   "cell_type": "code",
   "execution_count": 35,
   "id": "dbabcba8-d5b8-4825-9e13-d8696702358d",
   "metadata": {},
   "outputs": [
    {
     "name": "stdout",
     "output_type": "stream",
     "text": [
      "t-statistic is : 1.0954451150103321\n",
      "Critical t-value is : 2.045229642132703\n",
      "P value is : 0.2823362372860698\n",
      "Fail to Reject the null hypothesis, The population mean might be equal to 70\n"
     ]
    }
   ],
   "source": [
    "## Given data\n",
    "sample_mean = 72\n",
    "sample_std = 10\n",
    "sample_size = 30\n",
    "population_mean = 70\n",
    "significance_lvl = 0.05\n",
    "\n",
    "## calculate the t-statistic \n",
    "t_statistic = (sample_mean - population_mean) / (sample_std/(sample_size**0.5))\n",
    "\n",
    "## calculate degree of freedom\n",
    "dof = sample_size - 1\n",
    "\n",
    "## calculate critical t-value\n",
    "critical_t_value = stats.t.ppf(1-significance_lvl / 2, df=dof)\n",
    "\n",
    "## perform t-test\n",
    "p_value = 2 * (1 - stats.t.cdf(abs(t_statistic), df=dof))\n",
    "\n",
    "## printing the values\n",
    "print(f\"t-statistic is : {t_statistic}\")\n",
    "print(f\"Critical t-value is : {critical_t_value}\")\n",
    "print(f\"P value is : {p_value}\")\n",
    "\n",
    "## comparing critical t-value to t-statistic \n",
    "if t_statistic > critical_t_value :\n",
    "    print(\"Reject the null hypothesis, there is a significant difference\")\n",
    "else:\n",
    "    print(\"Fail to Reject the null hypothesis, The population mean might be equal to 70\")"
   ]
  }
 ],
 "metadata": {
  "kernelspec": {
   "display_name": "Python 3 (ipykernel)",
   "language": "python",
   "name": "python3"
  },
  "language_info": {
   "codemirror_mode": {
    "name": "ipython",
    "version": 3
   },
   "file_extension": ".py",
   "mimetype": "text/x-python",
   "name": "python",
   "nbconvert_exporter": "python",
   "pygments_lexer": "ipython3",
   "version": "3.10.8"
  }
 },
 "nbformat": 4,
 "nbformat_minor": 5
}

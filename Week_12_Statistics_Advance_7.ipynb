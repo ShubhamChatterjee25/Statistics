{
 "cells": [
  {
   "cell_type": "markdown",
   "id": "2dc360a1-e62d-49af-9aa8-f5bc1376d947",
   "metadata": {},
   "source": [
    "### 1 . Write a python function that takes in two arrays of data and calculates the F-value for a variance ratio test. the function should return F-value and the corresponding p-value for the test."
   ]
  },
  {
   "cell_type": "code",
   "execution_count": 6,
   "id": "c196c006-1dbb-4038-ad3d-d3b76912e550",
   "metadata": {},
   "outputs": [
    {
     "name": "stdout",
     "output_type": "stream",
     "text": [
      "F-value is :1.0, p-value is : 0.5\n"
     ]
    }
   ],
   "source": [
    "## importing required modules \n",
    "import numpy as np\n",
    "import scipy.stats as stat\n",
    "\n",
    "## creating function \n",
    "def variance_ratio_test(data1,data2):\n",
    "    ## performs f test \n",
    "    ## data1,data2 are two arrays\n",
    "    ## returns f_vale and p_value\n",
    "    \n",
    "    ## calculatin variance for each array\n",
    "    var1 = np.var(data1)\n",
    "    var2 = np.var(data2)\n",
    "    \n",
    "    ## calculate degree of freedom\n",
    "    df1 = len(data1) - 1\n",
    "    df2 = len(data2) - 1\n",
    "    \n",
    "    ## calculate f value\n",
    "    f_value = df1 / df2\n",
    "    \n",
    "    ## calculating p_value\n",
    "    p_value = stat.f.cdf(f_value,dfn=df1,dfd=df2)\n",
    "    \n",
    "    ## returning the values\n",
    "    return f_value,p_value\n",
    "\n",
    "## Example \n",
    "data1 = np.array([4,5,6,7,8])\n",
    "data2 = np.array([2,3,4,5,6])\n",
    "\n",
    "## calling the function\n",
    "f,p = variance_ratio_test(data1,data2)\n",
    "\n",
    "## printing the results\n",
    "print(f\"F-value is :{f}, p-value is : {p}\")"
   ]
  },
  {
   "cell_type": "markdown",
   "id": "a932cad9-25b7-406f-93f8-461f15678f2d",
   "metadata": {},
   "source": [
    "### 2 . Given Significance value of 0.05 and the degree of freedom for bunerator and denominator pf an F-distribution, write a python function that retuens the critical F-value for a two tailed test"
   ]
  },
  {
   "cell_type": "code",
   "execution_count": 10,
   "id": "10219f7c-7e95-4673-bc45-3ec36058761a",
   "metadata": {},
   "outputs": [
    {
     "name": "stdout",
     "output_type": "stream",
     "text": [
      "Critical F-value: 3.8586986662732143\n"
     ]
    }
   ],
   "source": [
    "## importing required modules\n",
    "import scipy.stats as stat\n",
    "\n",
    "##creating function\n",
    "def critical_f_value(alpha, df_num, df_den):\n",
    "    \"\"\"\n",
    "    Calculate the critical F-value for a two-tailed test.\n",
    "\n",
    "    Parameters:\n",
    "    - alpha: Significance level\n",
    "    - df_num: dof for the numerator\n",
    "    - df_den: dof for the denominator\n",
    "\n",
    "    Returns:\n",
    "    - critical_f: Critical F-value for the test\n",
    "    \"\"\"\n",
    "    \n",
    "    ## Calculate the critical F-value\n",
    "    critical_f = stat.f.ppf(1 - alpha / 2, df_num, df_den)\n",
    "    \n",
    "    ## reurning the value\n",
    "    return critical_f\n",
    "\n",
    "## Example usage:\n",
    "alpha = 0.05\n",
    "df_num = 3\n",
    "df_den = 20\n",
    "\n",
    "## call the function\n",
    "critical_f = critical_f_value(alpha, df_num, df_den)\n",
    "\n",
    "## printing the results\n",
    "print(f\"Critical F-value: {critical_f}\")\n"
   ]
  },
  {
   "cell_type": "markdown",
   "id": "64ecbc21-e49a-4216-bc6e-230a97e105f0",
   "metadata": {},
   "source": [
    "### 3 . Write a python program that generates random samples from two normal distributions with known variances and uses an F-test to determine if the variances are equal. the program should output the F-value, degree of freedom, and p-value for the test. "
   ]
  },
  {
   "cell_type": "code",
   "execution_count": 5,
   "id": "d2722200-4b53-4663-af5c-1f5e4baa9a06",
   "metadata": {},
   "outputs": [
    {
     "name": "stdout",
     "output_type": "stream",
     "text": [
      "F-value : 1.8128082313793625\n",
      "Degree of Freedom (numerator) : 49\n",
      "Degree of freedom (denominator : 48)\n",
      "P-value : 0.9794643778076183\n"
     ]
    }
   ],
   "source": [
    "## importing required modules\n",
    "import numpy as np\n",
    "import scipy.stats as stat\n",
    "\n",
    "## creating function\n",
    "def variance_equality_test():\n",
    "    \n",
    "    ## creating random samples of normal distribution\n",
    "    sample1 = np.random.normal(scale=1,size=50)\n",
    "    sample2 = np.random.normal(scale=1.5,size=50)\n",
    "    \n",
    "    ## calculatig the variance of samples\n",
    "    var1 = np.var(sample1)\n",
    "    var2 = np.var(sample2)\n",
    "    \n",
    "    ## checking if var1 is bigger\n",
    "    if var1<var2:\n",
    "        var1,var2 = var2,var1\n",
    "        sample1,sample2 = sample2,sample1\n",
    "        \n",
    "    ## calculating degree of freedom\n",
    "    df1 = len(sample1) - 1\n",
    "    df2 = len(sample2) - 2 \n",
    "    \n",
    "    ## Calculating F_value \n",
    "    f_value = var1/var2\n",
    "    \n",
    "    ## calculating p_value\n",
    "    p_value = stat.f.cdf(f_value,df1,df2)\n",
    "    \n",
    "    ## returning ther results\n",
    "    return f_value,df1,df2,p_value\n",
    "\n",
    "## example usage \n",
    "f_value,df1,df2,p_value = variance_equality_test()\n",
    "\n",
    "## printing the results\n",
    "print(f\"F-value : {f_value}\")\n",
    "print(f\"Degree of Freedom (numerator) : {df1}\")\n",
    "print(f\"Degree of freedom (denominator : {df2})\")\n",
    "print(f\"P-value : {p_value}\")"
   ]
  },
  {
   "cell_type": "markdown",
   "id": "21c2899e-1fd0-4d36-aae9-fa939aed7d2e",
   "metadata": {},
   "source": [
    "### 4 . The variance of two populations are known to be 10 and 15. A sample of 12 observations is taken from each population. conduct an F-test at the 5% significance level to determine if the variances are significantly different."
   ]
  },
  {
   "cell_type": "code",
   "execution_count": 30,
   "id": "dcdb15db-fbef-4c19-8d3e-67d8a379ca38",
   "metadata": {},
   "outputs": [
    {
     "name": "stdout",
     "output_type": "stream",
     "text": [
      "F-value is : 0.6666666666666666\n",
      "Critical value is : 2.8179304699530863\n",
      "Fail to reject the null hypothesis\n"
     ]
    }
   ],
   "source": [
    "## importing required modules\n",
    "import numpy as np\n",
    "import scipy.stats as stat\n",
    "\n",
    "## Given data\n",
    "var1 = 10\n",
    "var2 = 15\n",
    "sample_size = 12\n",
    "alpha = 0.05\n",
    "\n",
    "## degree of freedom\n",
    "df1 = sample_size - 1\n",
    "df2 = sample_size - 1\n",
    "\n",
    "## F_value\n",
    "f_value = var1/var2\n",
    "\n",
    "## calculating critical value\n",
    "critical_f = stat.f.ppf(1-alpha,df1,df2)\n",
    "\n",
    "## printing the values\n",
    "print(f\"F-value is : {f_value}\")\n",
    "print(f\"Critical value is : {critical_f}\")\n",
    "\n",
    "##  comparing f value to critical value\n",
    "if f_value > critical_f:\n",
    "    print(\"Reject the null hypothesis, there is a significant difference\")\n",
    "else:\n",
    "    print(\"Fail to reject the null hypothesis\")"
   ]
  },
  {
   "cell_type": "markdown",
   "id": "04d37a08-9b40-4b26-a28c-1982f9b12f53",
   "metadata": {},
   "source": [
    "### 5 . A manufacturer claims that the variance of the diameter of a certain product is 0.005. a sample of 25 products is taken, and sample variance is found to be 0.006.Conduct an F-test at 1% significance level to determine if claim is justified."
   ]
  },
  {
   "cell_type": "code",
   "execution_count": 29,
   "id": "a169d5d9-01d7-44d1-b014-52dfc62f4a34",
   "metadata": {},
   "outputs": [
    {
     "name": "stdout",
     "output_type": "stream",
     "text": [
      "F-value is : 0.8333333333333334\n",
      "Critical value is : 6234.6308935330835\n",
      "Fail to reject null hypothesis, the claim is justified\n"
     ]
    }
   ],
   "source": [
    "## importing required modules\n",
    "import scipy.stats as stat\n",
    "\n",
    "## given data\n",
    "var1 = 0.005\n",
    "var2 = 0.006\n",
    "sample_size = 25\n",
    "alpha = 0.01\n",
    "\n",
    "## degree of freedom\n",
    "df1 = sample_size - 1 \n",
    "df2 = 1\n",
    "\n",
    "## calculating f_value\n",
    "f_value = var1/var2\n",
    "\n",
    "## calculating critical value \n",
    "critical_value = stat.f.ppf(q=1-alpha,dfn=df1,dfd=df2 )\n",
    "\n",
    "## printing the values\n",
    "print(f\"F-value is : {f_value}\")\n",
    "print(f\"Critical value is : {critical_value}\")\n",
    "\n",
    "## comparing the values\n",
    "if f_value > critical_value:\n",
    "    print(\"Reject the null hypothesis, the claim is not justified\")\n",
    "else:\n",
    "    print(\"Fail to reject null hypothesis, the claim is justified\")"
   ]
  },
  {
   "cell_type": "markdown",
   "id": "ed444517-aa1c-4760-9220-f8f88afe4160",
   "metadata": {},
   "source": [
    "### 6 . Write a python function that takes degree of freedom for numerator and denominator of an F-distribution and calculates the mean and variance of the distribution. the function should return mean and variance as tuple"
   ]
  },
  {
   "cell_type": "code",
   "execution_count": 35,
   "id": "166b63fc-1881-4944-8084-01b15107b9f3",
   "metadata": {},
   "outputs": [
    {
     "name": "stdout",
     "output_type": "stream",
     "text": [
      "<class 'tuple'>\n",
      "(1.1666666666666667, 0.5988888888888889)\n"
     ]
    }
   ],
   "source": [
    "## importing required modules\n",
    "import scipy.stats as stat\n",
    "\n",
    "## creating function\n",
    "def mean_and_variance(num,den):\n",
    "    \n",
    "    ## calculating mean\n",
    "    mean = stat.f.mean(dfn=num,dfd=den)\n",
    "    \n",
    "    ## calculating variance\n",
    "    var = stat.f.var(dfn=num,dfd=den)\n",
    "    \n",
    "    return mean,var\n",
    "\n",
    "## example using 10,14 as numerator and denominator\n",
    "result = mean_and_variance(10,14)\n",
    "\n",
    "## printing data type of result\n",
    "print(type(result))\n",
    "print(result)"
   ]
  },
  {
   "cell_type": "markdown",
   "id": "9d9e435b-e3dc-4371-a86f-6e0d7777304c",
   "metadata": {},
   "source": [
    "### 7 . A random sample of 10 measurements is taken from a normal distribution with unknown variance. the sample variance is found to be 25. another random sample of 15 measurements is taken from another normal population with unknown variance. and sample variance is 20. conduct F-test at the 10% significance level to determine if variances are significantly different."
   ]
  },
  {
   "cell_type": "code",
   "execution_count": 41,
   "id": "043e46c9-483a-4939-98b3-c6b7566e77c6",
   "metadata": {},
   "outputs": [
    {
     "name": "stdout",
     "output_type": "stream",
     "text": [
      "F-value is : 1.25\n",
      "critical_value is : 2.121954566976902\n",
      "Fail to reject the null hypothesis\n"
     ]
    }
   ],
   "source": [
    "## importing required modules\n",
    "import scipy.stats as stat\n",
    "\n",
    "## given data \n",
    "sample_size1 = 10\n",
    "var1 = 25\n",
    "sample_size2 = 15\n",
    "var2 = 20\n",
    "alpha = 0.1\n",
    "\n",
    "## degree of freedom\n",
    "df1 = sample_size1 - 1 \n",
    "df2 = sample_size2 - 1 \n",
    "\n",
    "## calculating f-value \n",
    "f_value = var1 / var2\n",
    "\n",
    "## calculating critical value\n",
    "critical_value = stat.f.ppf(1-alpha,dfn=df1,dfd=df2)\n",
    "\n",
    "## printing values\n",
    "print(f\"F-value is : {f_value}\")\n",
    "print(f\"critical_value is : {critical_value}\")\n",
    "\n",
    "## comparing the f value to critical value\n",
    "if f_value > critical_value:\n",
    "    print(\"Reject the null hypothesis, variances significantly difference\")\n",
    "else:\n",
    "    print(\"Fail to reject the null hypothesis\")"
   ]
  },
  {
   "cell_type": "markdown",
   "id": "f236a99e-154e-4d5a-adf8-b29aadba9088",
   "metadata": {},
   "source": [
    "### 8 . The following data represent the waiting times in minutes at two different restaurants on a saturday night. A: 24, 25, 28, 23, 22, 20, 27; Restaurant B: 31, 33, 35, 30, 32, 36.Conduct an F-test at the 5% significance level to determine if variances are significantly different."
   ]
  },
  {
   "cell_type": "code",
   "execution_count": 44,
   "id": "6eda61d6-0a16-4a02-8324-6757355b6c10",
   "metadata": {},
   "outputs": [
    {
     "name": "stdout",
     "output_type": "stream",
     "text": [
      "F-value is : 1.496767651159843\n",
      "Critical_value is : 4.950288068694318\n",
      "Fail to reject the null hypothesis\n"
     ]
    }
   ],
   "source": [
    "## importing required modules\n",
    "import scipy.stats as stat\n",
    "import numpy as np\n",
    "\n",
    "## given data on waiting time \n",
    "A = [24, 25, 28, 23, 22, 20, 27]\n",
    "B = [31, 33, 35, 30, 32, 36]\n",
    "alpha = 0.05\n",
    "\n",
    "## calculate f_value \n",
    "f_value = np.var(A) / np.var(B)\n",
    "\n",
    "## degree of freedom \n",
    "df1 = len(A) - 1 \n",
    "df2 = len(B) - 1\n",
    "\n",
    "## calculating critical_value\n",
    "critical_value = stat.f.ppf(q=1-alpha,dfn=df1,dfd=df2)\n",
    "\n",
    "## printing the values\n",
    "print(f\"F-value is : {f_value}\")\n",
    "print(f\"Critical_value is : {critical_value}\")\n",
    "\n",
    "## comparing the values \n",
    "if f_value > critical_value:\n",
    "    print(\"Reject the null hypothesis, variances are significantly different\")\n",
    "else:\n",
    "    print(\"Fail to reject the null hypothesis\")"
   ]
  },
  {
   "cell_type": "markdown",
   "id": "8d8da1c9-8fdd-4d8f-b8ea-412812b6696b",
   "metadata": {},
   "source": [
    "### 9 . The following data represent the test scores of two groups of students: Group A: 80, 85, 90, 92, 87, 83. Group B: 75, 78, 82, 79, 81, 84. Conduct an F-test at the 1% significance level to determine if the variances are significantly different."
   ]
  },
  {
   "cell_type": "code",
   "execution_count": 45,
   "id": "bfa3ffcc-8001-4bbd-b3d7-50d7e61e48db",
   "metadata": {},
   "outputs": [
    {
     "name": "stdout",
     "output_type": "stream",
     "text": [
      "F-value is : 1.9442622950819677\n",
      "Critical_value is : 10.967020650907992\n",
      "We failed to reject the null hypothesis.\n"
     ]
    }
   ],
   "source": [
    "## importing required modules\n",
    "import numpy as np\n",
    "import scipy.stats as stat\n",
    "\n",
    "## given data\n",
    "A = [80, 85, 90, 92, 87, 83]\n",
    "B = [75, 78, 82, 79, 81, 84]\n",
    "alpha = 0.01\n",
    "\n",
    "## degree of freedom \n",
    "df1 = len(A) - 1\n",
    "df2 = len(B) - 1\n",
    "\n",
    "## F-value \n",
    "f_value = np.var(A) / np.var(B)\n",
    "\n",
    "## calculating criticla value\n",
    "critical_value = stat.f.ppf(q=1-alpha,dfn=df1,dfd=df2)\n",
    "\n",
    "## printing values\n",
    "print(f\"F-value is : {f_value}\")\n",
    "print(f\"Critical_value is : {critical_value}\")\n",
    "\n",
    "## comparing the values\n",
    "if f_value > critical_value:\n",
    "    print(\"Reject the null hypothesis, variances are significantly different\")\n",
    "else:\n",
    "    print(\"We failed to reject the null hypothesis.\")"
   ]
  }
 ],
 "metadata": {
  "kernelspec": {
   "display_name": "Python 3 (ipykernel)",
   "language": "python",
   "name": "python3"
  },
  "language_info": {
   "codemirror_mode": {
    "name": "ipython",
    "version": 3
   },
   "file_extension": ".py",
   "mimetype": "text/x-python",
   "name": "python",
   "nbconvert_exporter": "python",
   "pygments_lexer": "ipython3",
   "version": "3.10.8"
  }
 },
 "nbformat": 4,
 "nbformat_minor": 5
}

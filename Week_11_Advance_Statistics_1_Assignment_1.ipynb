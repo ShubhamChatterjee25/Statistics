{
 "cells": [
  {
   "cell_type": "markdown",
   "id": "629b6c05-a1e2-4d66-b382-eaa6128b0971",
   "metadata": {},
   "source": [
    "### 1 . What is Probablity Density Function ?"
   ]
  },
  {
   "cell_type": "markdown",
   "id": "f5d03151-07a1-43cf-8553-8ef9bb9e1b52",
   "metadata": {},
   "source": [
    "- In probability theory, a probability density function, density function, or density of an absolutely continous random variable, is a functiion whose value at any given sample in the sample space can be interpreted as providing a relative likelihood that the value of random variable would be equal to the sample. "
   ]
  },
  {
   "cell_type": "markdown",
   "id": "8c4f1c0e-cba9-4adb-99c6-858091a62b03",
   "metadata": {},
   "source": [
    "### 2 . What are types of probability distribution ?"
   ]
  },
  {
   "cell_type": "markdown",
   "id": "06add070-5219-46d0-a88a-f7e8c5a313e2",
   "metadata": {},
   "source": [
    "##### There are two types of probability distribution mainly :\n",
    "1. Discrete Distribution\n",
    "2. Continous Distribution\n",
    "\n",
    "##### 1. Discrete Distribution includes :\n",
    "1. Bernoulli Distribution\n",
    "2. Binomial Distribution\n",
    "3. Uniform Distribution\n",
    "4. Poisson Distribution\n",
    "\n",
    "##### 2. Continuous Distribution includes :\n",
    "1. Normal Distribution\n",
    "2. Chi-Sqaured Distribution\n",
    "3. Exponential Distribution\n",
    "4. Logistic Distribution\n",
    "5. Student's T Distribution\n"
   ]
  },
  {
   "cell_type": "markdown",
   "id": "f98b8be7-2e3a-4c9c-8e51-5ad06ba443b8",
   "metadata": {},
   "source": [
    "### 3 . write a python function to calculate probability density function of a normal distribution with mean and standard deviation at a point."
   ]
  },
  {
   "cell_type": "code",
   "execution_count": 15,
   "id": "d6773338-2b6e-4a74-929b-c0c35a805e08",
   "metadata": {},
   "outputs": [
    {
     "name": "stdout",
     "output_type": "stream",
     "text": [
      "Calculate PDF on Normal Distribution: \n"
     ]
    },
    {
     "name": "stdin",
     "output_type": "stream",
     "text": [
      "Enter Mean Value: 5\n",
      "Enter Standard Deviation: 2\n",
      "Enter your point x:  5\n"
     ]
    },
    {
     "name": "stdout",
     "output_type": "stream",
     "text": [
      "PDF at 5= 0.19947114020071635\n"
     ]
    }
   ],
   "source": [
    "## importing required modules\n",
    "import numpy as np\n",
    "import scipy.stats as stats\n",
    "\n",
    "## getting data from user\n",
    "print(\"Calculate PDF on Normal Distribution: \")\n",
    "mean = int(input(\"Enter Mean Value:\"))\n",
    "std = int(input(\"Enter Standard Deviation:\"))\n",
    "x = int(input(\"Enter your point x: \"))\n",
    "\n",
    "## declaring a function to calculate pdf\n",
    "def pdf(mean,std,x):\n",
    "    pdf_value = stats.norm.pdf(x, loc=mean, scale=std)\n",
    "    return pdf_value\n",
    "\n",
    "## calling the function\n",
    "obj = pdf(mean,std,x)\n",
    "\n",
    "## printing the result\n",
    "print(f\"PDF at {x}= {obj}\")\n"
   ]
  },
  {
   "cell_type": "markdown",
   "id": "df801188-3bfd-46d6-82d5-c2fcf1520281",
   "metadata": {},
   "source": [
    "### 4 . what are properties of Binomial function ? Give Two example where it can be applied."
   ]
  },
  {
   "cell_type": "markdown",
   "id": "936398a3-61f0-4806-bd46-b7328c97dc99",
   "metadata": {},
   "source": [
    "##### Properties of Binomial Distribution :\n",
    "1. Binomial distribution is applicable when the trials are independent and each trial has just two outcomes, success and failure.\n",
    "\n",
    "2. There is 'n' number of independent trails or a fixed number of n times repeated trials.\n",
    "\n",
    "3. the probability of success or failure remains same for each trial.\n",
    "\n",
    "4. Each observation is independent \n",
    "\n",
    "5. Expected Value is equal to the number of trials multiplied by the probability of one success. \n",
    "\n",
    "##### Examples where Binomial Distribution can be applied :\n",
    "\n",
    "1. Coin toss : Two outcomes Heads or Tails and probability is same for every event(toss)\n",
    "2. Taking an exam : Two outcomes Pass or Fail and probability is same for every attempt."
   ]
  },
  {
   "cell_type": "markdown",
   "id": "a0a0cd25-56ad-4b0b-a2c5-c1cd133f26d1",
   "metadata": {},
   "source": [
    "### 5 . Generate random sample size of 1000 from binomial distribution . with probability of success 0.4 and plot a histogram of results using matplotlib."
   ]
  },
  {
   "cell_type": "code",
   "execution_count": 25,
   "id": "c2a8f38d-c0c8-4242-8e8e-09a2b0bed125",
   "metadata": {},
   "outputs": [
    {
     "data": {
      "text/plain": [
       "<function matplotlib.pyplot.show(close=None, block=None)>"
      ]
     },
     "execution_count": 25,
     "metadata": {},
     "output_type": "execute_result"
    },
    {
     "data": {
      "image/png": "[encoded data removed]",
      "text/plain": [
       "<Figure size 640x480 with 1 Axes>"
      ]
     },
     "metadata": {},
     "output_type": "display_data"
    }
   ],
   "source": [
    "## Generating sample size using binomial distribution\n",
    "## size is 1000 and probability is 0.4\n",
    "data = np.random.binomial(1,p=0.4,size=1000)\n",
    "\n",
    "## importing matplotlib\n",
    "import matplotlib.pyplot as plt\n",
    "\n",
    "## plotting results into a histogram\n",
    "plt.hist(data,bins=3)\n",
    "plt.show"
   ]
  },
  {
   "cell_type": "markdown",
   "id": "3a09f738-b626-49a8-9ef9-466752ead64c",
   "metadata": {},
   "source": [
    "### 6 . Write Python function to calculate Cummulative Distribution of a poisson distribution with given mean at given point."
   ]
  },
  {
   "cell_type": "code",
   "execution_count": 26,
   "id": "b85c78fb-0686-4ce4-ba80-b3cc7155483e",
   "metadata": {},
   "outputs": [
    {
     "name": "stdin",
     "output_type": "stream",
     "text": [
      "Enter mean : 5\n",
      "Enter your point x:  6\n"
     ]
    },
    {
     "name": "stdout",
     "output_type": "stream",
     "text": [
      "CDF at 6= 0.8413447460685429\n"
     ]
    }
   ],
   "source": [
    "## getting input from user\n",
    "mean = int(input(\"Enter mean :\"))\n",
    "x = int(input(\"Enter your point x: \"))\n",
    "\n",
    "## declaring a function to calculate cdf\n",
    "def cdf(mean,x):\n",
    "    cdf_value = stats.norm.cdf(x, loc=mean)\n",
    "    return cdf_value\n",
    "\n",
    "## calling the function\n",
    "obj = cdf(mean,x)\n",
    "\n",
    "## printing the result\n",
    "print(f\"CDF at {x}= {obj}\")"
   ]
  },
  {
   "cell_type": "markdown",
   "id": "973a5700-9d48-409f-8a72-8acedf684674",
   "metadata": {},
   "source": [
    "### 7 . How is Binomial Distribution different from Poisson Distribution ?"
   ]
  },
  {
   "cell_type": "markdown",
   "id": "52380993-fc20-4c5b-8051-1a52539ae747",
   "metadata": {},
   "source": [
    "###### Differences between Binomial Distribution and Poisson Distribution\n",
    "\n",
    "|  Basis for comparison   |      Binomial Distribution       |         Poisson Distribution      |\n",
    "|-------------------------|-----------------------------------|----------------------------------|\n",
    "|1. Meaning| Binomial Distribution is one in which probability of repeated number of trials are studied|Poisson Distribution gives the count of independent events occur randomly with a given period of time|\n",
    "|2. Nature| Biparametric| Uniparametric|\n",
    "|3. Number of trials| Fixed | Infinite |\n",
    "|4. Success | Constant probability | infinitesimal chance of success |\n",
    "|5. Outcomes | Only two possible outcomes i.e success or failure | Unlimited number of possible outcomes|\n",
    "|6. Mean and variance | Mean > Variance | Mean = Variance |\n",
    "|7. Example | Coin tossing experiment | Printing mistakes/ page of large book.|"
   ]
  },
  {
   "cell_type": "markdown",
   "id": "a6837289-66a2-49ab-a1c1-a1e00bd4ee82",
   "metadata": {},
   "source": [
    "### 8 . Generate random sample of 1000 from a poisson Distribution with mean 5 and calculate the sample mean and variance "
   ]
  },
  {
   "cell_type": "code",
   "execution_count": 13,
   "id": "1b8c3c13-e1c6-45ed-bbbc-874ae8bdb7c9",
   "metadata": {},
   "outputs": [
    {
     "name": "stdout",
     "output_type": "stream",
     "text": [
      "The sample mean of Poisson Distribution with mean 5 is : 5.018\n",
      "The Varaince of Poisson Distribution with mean 5 is :  5.101676\n"
     ]
    }
   ],
   "source": [
    "## Generating the sample size using poisson distribution\n",
    "## mean is 5 and sample size is 1000\n",
    "poi = np.random.poisson(lam=5,size=1000)\n",
    "\n",
    "## calculating sample mean and variance\n",
    "mean = np.mean(poi)\n",
    "var = np.var(poi)\n",
    "\n",
    "## printing the results\n",
    "print(\"The sample mean of Poisson Distribution with mean 5 is :\", mean)\n",
    "print(\"The Varaince of Poisson Distribution with mean 5 is : \", var)"
   ]
  },
  {
   "cell_type": "markdown",
   "id": "5920187c-b33f-49ea-8b93-19f0e43b1ca6",
   "metadata": {},
   "source": [
    "### 9 . How mean and Variance are related in Binomial Distribution and Poisson Distribution ?"
   ]
  },
  {
   "cell_type": "markdown",
   "id": "6c9a4764-fd95-4161-a2e7-3d2fb593ed32",
   "metadata": {},
   "source": [
    "##### 1) In Binomial Distribution, the mean is always greater than variance. specifically, the mean of Binomial distribution with parameters \"n\" and \"p\" is given by \"np\", and the variance is by \"np*(1-p)\"\n",
    "\n",
    "##### 2) In Poisson Distribution has a particularly simple mean, E(X) = lambda, Variance, V(X) = lambda. in short the mean and variance are always equal (Mean = Variance)"
   ]
  },
  {
   "cell_type": "markdown",
   "id": "94aafdda-3bc3-4f2b-b330-af4e128338c0",
   "metadata": {},
   "source": [
    "### 10 . In normal Distribution with respect to mean position, where does the least frequent data appear ?"
   ]
  },
  {
   "cell_type": "markdown",
   "id": "b334a8a9-7f5c-4309-a4f1-cb745ade4511",
   "metadata": {},
   "source": [
    "- In normal distribution the data is more frequent near the mean. and with the help of emperical rule we already know that \n",
    "1. 68 percent of data falls between mean and 1st standard deviation\n",
    "2. 95 percent of data falls between mean and 2nd standard deviation\n",
    "3. 99.7 percent of data falls between mean and 3rd standard deviation\n",
    "\n",
    "- From this we can conclude that less frequent data appears far from the mean in a normal distribution."
   ]
  }
 ],
 "metadata": {
  "kernelspec": {
   "display_name": "Python 3 (ipykernel)",
   "language": "python",
   "name": "python3"
  },
  "language_info": {
   "codemirror_mode": {
    "name": "ipython",
    "version": 3
   },
   "file_extension": ".py",
   "mimetype": "text/x-python",
   "name": "python",
   "nbconvert_exporter": "python",
   "pygments_lexer": "ipython3",
   "version": "3.10.8"
  }
 },
 "nbformat": 4,
 "nbformat_minor": 5
}

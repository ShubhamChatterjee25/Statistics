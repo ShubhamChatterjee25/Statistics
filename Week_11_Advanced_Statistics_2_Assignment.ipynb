{
 "cells": [
  {
   "cell_type": "markdown",
   "id": "8887f7e1-419e-472c-9f0a-11bc040da5ae",
   "metadata": {},
   "source": [
    "### 1 . What are Probability Mass Function(PMF) and Probability Density Function(PDF) ? explain with an Example "
   ]
  },
  {
   "cell_type": "markdown",
   "id": "b8fb1f23-ed01-43f5-81fe-278ea2d97ea2",
   "metadata": {},
   "source": [
    "##### Probability Mass Function (PMF) :\n",
    "- PMF describes the probability of a discrete random variable taking on a specific value.\n",
    "- it deals with Discrete random variable\n",
    "- The value of the PMF at a specific point indicates the probability of the random variable taking on that value.\n",
    "- It can be visualised as a bar chart\n",
    "\n",
    "##### Example :\n",
    "- Suppose a fair coin is tossed twice and sample space is S = [HH,HT,TH,TT]. The probability of getting heads needs to determined. Let X be the random variable that shows how many heads are obtained. X can take values 0,1,2. \"The Pr(X) = 1 is 0.3\" .Hence we can say that \"Probability Mass Function of X at 1 is 0.3\" \n",
    "\n",
    "##### Probability Density Function (PDF) :\n",
    "- PDF Describes the likelihood of a continuous random variable taking on a specific value or falling within a specific interval\n",
    "- It deals with Continuous random variable\n",
    "- The vlaue of PDF at a specific point indicates the probability density, not the probability itself.\n",
    "- the PDF can be visualized with area under the curve representing probability.\n",
    "\n",
    "##### Example :\n",
    "- Lets say we have a continuous random variable whose probability density function is given by f(x)= x+2,when 0<x<2. we want to find P(0.5<x<1). Then we integrate x+2 within the limits 0.5 and 1. this gives us 1.375.\n"
   ]
  },
  {
   "cell_type": "markdown",
   "id": "8c708eed-9186-432e-aeb4-12ec3c28f68f",
   "metadata": {},
   "source": [
    "### 2 . What is cummulative Density Function(CDF) ? Explain with example. why is CDF is used ?"
   ]
  },
  {
   "cell_type": "markdown",
   "id": "85a8a91f-a373-4d79-ba9b-e22bb49c7075",
   "metadata": {},
   "source": [
    "##### Cummulative Density Function :\n",
    "- the cummulative distribution function (cdf) gives the probability that the random variable X is less than or equal to x and is usually denoted by F(x). The cummulative distribution function of a random variable x is the function given by F(x)=P[X<=x]\n",
    "\n",
    "##### Example : \n",
    "\n",
    "- you invite peoplw at 8pm. you expect 100 people. lets assume that people's arrival is gaussianly distributed with mean of 10pm and standard deviation of 1 hour. the cummulative distribution tells you that by 11pm you will have 84 people and by 12pm 98 people.\n",
    "\n",
    "##### why is cdf is used ?\n",
    "- The cummulative distribution function CDF calculates the cummlulative probability for a given x-value. Use the cdf to determine the likelihood that a random observation taken from population will be less than or equal to a particular value.\n"
   ]
  },
  {
   "cell_type": "markdown",
   "id": "1db75bd2-e69c-45c5-ac3c-03f04ba54b2f",
   "metadata": {},
   "source": [
    "### 3 . What are some example situations where normal distribution might be used as a model? Explain how the parameters of normal distribution relate to the shape of the distribution"
   ]
  },
  {
   "cell_type": "markdown",
   "id": "55efb10c-31f4-4ba3-aae3-891a72a1e520",
   "metadata": {},
   "source": [
    "##### Situations where Normal distributions is used as model :\n",
    "1. Heights and weight \n",
    "2. sampling distributions such as sample mean and sample proportion.\n",
    "3. SAT scores\n",
    "4. job satisfaction\n",
    "5. reading ability\n",
    "\n",
    "##### Relationship between shape and parameters of normal distribution :\n",
    "- The graph of normal distribution is characterized by two parameters.\n",
    "1. The mean\n",
    "2. standard deviation\n",
    "- the mean, average, which is the maximum of graph and its always symmetric\n",
    "- the standard deviation, which determines the amount of dispersion away from mean.\n",
    "- The parameters determine the shape and probabilities of the distribution."
   ]
  },
  {
   "cell_type": "markdown",
   "id": "d2cecd7b-df7d-4ea6-a02c-2cd8ec04f405",
   "metadata": {},
   "source": [
    "### 4 . Explain the importance of Normal Distribution. Give few real life examples of normal distribution."
   ]
  },
  {
   "cell_type": "markdown",
   "id": "cc18f243-923e-44b4-a185-0924290fce10",
   "metadata": {},
   "source": [
    "##### Importance of Normal Distribution :\n",
    "- The normal distribution is one of the most important probability distributions for independent random variables for three main reasons\n",
    "1. Normal distribution describes the distribution of values for many natural phenomena in wide range of areas\n",
    "2. the normal distribution is important because it can be used to approximate other types of probability distribution, such as binomial,poisson distribution.\n",
    "3. The normal distribution is the key idea behnd the central limit theorem CLT. whcih states that averages calculated from independent, identically distributed random varaibles have approximately normal distribtuion. \n",
    "\n",
    "##### Few Real life examples for Normal Distribution.\n",
    "1. Price action\n",
    "2. IQ scores\n",
    "3. Asset prices\n",
    "4. Blood Pressure\n",
    "5. its also used in Biology,physical science, mathematics, finance and economics."
   ]
  },
  {
   "cell_type": "markdown",
   "id": "978ec5d6-28e8-4456-8ea9-42ee4c3b7310",
   "metadata": {},
   "source": [
    "### 5 . What is Bernoulli Distribution give an example. Difference between Bernoulli and Binomial Distribution."
   ]
  },
  {
   "cell_type": "markdown",
   "id": "ef5307a5-db4a-450e-9c0e-169b1b194d2d",
   "metadata": {},
   "source": [
    "##### Bernoulli Distrbution :\n",
    "- The bernoulli distribution is a special case of binomial distribution where a single trial is conducted. it is also special case of the \"Two point distribution\". for which the possible outcome would need not be 1 and 0.\n",
    "\n",
    "##### Example :\n",
    "- Every time you flip a coin, ther are only two possible outcomes. it either lands on heads or tails. and theres 50% chance of either outcome. A coin flip is an example of a Bernoulli trail. which is any random experiment in which there are exactly two possible outcomes.\n",
    "\n",
    "##### Difference between Bernoulli Distribution and Binomial Distribution :\n",
    "|                 Bernoulli Distribution             |                Binomial Distribution       |\n",
    "|----------------------------------------------------|--------------------------------------------|\n",
    "|1. Bernoulli deals with outcome of the single trial of the event | 1. Binomial deals with outcome of multiple trials of an event|\n",
    "|2. Bernoulli is used when the outcome of an event is required only for one time | 2. Binomial is used when the outcome of an event is required multiple times|\n",
    "|3. A random varaible that follows Bernoulli Distribution can only take two possible values | 3. A random variable that follows binomial distribution can take on several values.|"
   ]
  },
  {
   "cell_type": "markdown",
   "id": "147b50aa-b4bd-448a-bbb2-9d3d6fad463b",
   "metadata": {},
   "source": [
    "### 6 . Consider Dataset with given data and find the probability that a randomly seelcted observation will be greater than 60."
   ]
  },
  {
   "cell_type": "code",
   "execution_count": 3,
   "id": "b1dcc802-0bb5-4402-a694-818080a60144",
   "metadata": {},
   "outputs": [
    {
     "name": "stdout",
     "output_type": "stream",
     "text": [
      "Zscore is :  1.0\n"
     ]
    }
   ],
   "source": [
    "## Given data\n",
    "## mean and standard deviation\n",
    "mean = 50\n",
    "std = 10\n",
    "\n",
    "## to find the probability first we need to find Z-score\n",
    "## z-score formula\n",
    "\"zscore = (xi-mean)/std\"\n",
    "\n",
    "## finding zscore\n",
    "zscore = (60-50)/10\n",
    "print(\"Zscore is : \",zscore)"
   ]
  },
  {
   "cell_type": "markdown",
   "id": "cb92946b-479a-4cee-9f3d-fbe198151e03",
   "metadata": {},
   "source": [
    "now we have to look for the zscore on ztable with value 1.0"
   ]
  },
  {
   "attachments": {
    "bcb63474-65f1-4f53-a89b-84ed1627e1b7.jpg": {
     "image/jpeg": "[encoded data removed]"
    }
   },
   "cell_type": "markdown",
   "id": "c79f77f9-9377-4595-833b-eba1d2e486a2",
   "metadata": {},
   "source": [
    "![Screenshot 2023-10-11 130253.jpg](attachment:bcb63474-65f1-4f53-a89b-84ed1627e1b7.jpg)"
   ]
  },
  {
   "cell_type": "code",
   "execution_count": 5,
   "id": "87c5a907-428b-4bd7-b43c-848786aeecab",
   "metadata": {},
   "outputs": [
    {
     "name": "stdout",
     "output_type": "stream",
     "text": [
      "Probability that random observation will be greater than 60 is :  0.15866000000000002\n"
     ]
    }
   ],
   "source": [
    "## we got probability \n",
    "prob = 0.84134\n",
    "\n",
    "## however the question requires us to calculate higher than 60\n",
    "## so we have to subtract the probability from 1.\n",
    "newprob = 1 - prob\n",
    "\n",
    "## priting the result\n",
    "print(\"Probability that random observation will be greater than 60 is : \",newprob)"
   ]
  },
  {
   "cell_type": "markdown",
   "id": "873c2471-8e49-4535-8e79-c3ce99dcd625",
   "metadata": {},
   "source": [
    "### 7 . Exaplin uniform distribution with an example"
   ]
  },
  {
   "cell_type": "markdown",
   "id": "7074b0c6-66b8-4551-8d2c-f7642bd7655e",
   "metadata": {},
   "source": [
    "##### it has two types of distributions further.\n",
    "1. Continuous Distribution\n",
    "2. Discrete Distribution\n",
    "\n",
    "- In probability thoery and statistics, the continous uniform distribution or rectangular distribution is a family of symmetric probability distribution. The distribution describes an experiment where there is a arbitrary outcome that lies between certain bounds. the bounds are defined by parameters, a and b. which are min and max values the interval can either be closed [a,b] or open (a.b).\n",
    "\n",
    "##### Example :\n",
    "- A deck of cards has within it uniform distribution because the likelihood of drawing a hear, a club, a diamond, or a spade is equally likely."
   ]
  },
  {
   "cell_type": "markdown",
   "id": "507adc40-ce53-4071-90bc-302e9da2bc39",
   "metadata": {},
   "source": [
    "### 8 . What is Z score ? state importance of z score."
   ]
  },
  {
   "cell_type": "markdown",
   "id": "a48031e4-0fb4-4909-9740-feb77c99ed09",
   "metadata": {},
   "source": [
    "##### Z score :\n",
    "- to put into simple words z score which is also called as standard score gives you an idea of how far a data point is from mean. but more technically its a measure of how many standard deviations below or above the population mean a raw score is.\n",
    "\n",
    "##### importance :\n",
    "1. z scores are used to standardize data, making it esier to compare values from different datasets. \n",
    "2. its useful for identifying ouliers in data.\n",
    "3. z score is essential for hypothesis testing, when dealing with normal disribution.\n",
    "4. its used in quality control to monitor and control the variability in manufacturing.\n",
    "5. its also useful for market research, sports analytics, risk assessment."
   ]
  },
  {
   "cell_type": "markdown",
   "id": "165ca833-8c93-4fdf-aaf8-36dcd0ce8c91",
   "metadata": {},
   "source": [
    "### 9 . What is central limit theorem ? state the significance of central limit theorem."
   ]
  },
  {
   "cell_type": "markdown",
   "id": "29671d6d-b529-4df6-bca9-1de323df2986",
   "metadata": {},
   "source": [
    "##### central limit theorem :\n",
    "- in probability theory, the central limit theorem (CLT) states that the distribution of a sample variable approximates a normal distribution as sample size becomes larger, assuming that all samples are identical in size, and regardless of population's actual distribution shape.\n",
    "\n",
    "##### importance of central limit theorem :\n",
    "- the central limit theorem is useful when analyzing large data sets because it allows one to assume that the sampling distribution of the mean will be normally-distributed in most cases. the allows for easier statistical analysis and inference."
   ]
  },
  {
   "cell_type": "markdown",
   "id": "816b9793-4fd9-48ab-8bf7-be3158dee74a",
   "metadata": {},
   "source": [
    "### 10 . State the assumptions of central limit thoerem."
   ]
  },
  {
   "cell_type": "markdown",
   "id": "ee9d4b67-2d51-479f-811b-2bed2d85db00",
   "metadata": {},
   "source": [
    "1. the data must adhere to the randomization rule. it needs to be sampled at random\n",
    "2. when taking samples without replacement, the sample size should not exceed 10% of the population\n",
    "3. the sample should be unrelated to eachother. one sample should not effect the other.\n",
    "4. when population is symmetric, a sample size of 30 is generally considered reasonable.\n",
    "5. it says that the sampling distribution will always be equally distributed \n",
    "6. its equally distributed as long as sample size is large enough\n",
    "7. the distribution of the population data does not effect the sampling distribution and will always be equally distributed. \n",
    "8. it states that the mean of the population = mean of the sampling distribution of mean. "
   ]
  }
 ],
 "metadata": {
  "kernelspec": {
   "display_name": "Python 3 (ipykernel)",
   "language": "python",
   "name": "python3"
  },
  "language_info": {
   "codemirror_mode": {
    "name": "ipython",
    "version": 3
   },
   "file_extension": ".py",
   "mimetype": "text/x-python",
   "name": "python",
   "nbconvert_exporter": "python",
   "pygments_lexer": "ipython3",
   "version": "3.10.8"
  }
 },
 "nbformat": 4,
 "nbformat_minor": 5
}
